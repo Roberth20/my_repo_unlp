{
 "cells": [
  {
   "cell_type": "markdown",
   "id": "cf0bf690-ea41-499f-b2dc-b93f7ac14e1d",
   "metadata": {},
   "source": [
    "# Metodo experimental\n",
    "\n",
    "Se empleó: 1 rollo de hilo, una cinta métrica, 1 fotocompuerta de sensibilidad\n",
    "$0.001\\ s$, 1 transportador, una base para pendulos y 3 masas con pesos $m_1 = (5.4 \\pm 0.1)\\ g$, $m_2 = (45.0 \\pm 0.1)\\ g$ y $m_3 = (1.6 \\pm 0.1)\\ g$. La base para la colocación del péndulo contaba con marcas para diferentes grados, donde la veracidad de las mismas se comprobaron utilizando un transportador y propiedades trigonométricas.\n",
    "\n",
    "Entre las diferentes variables que influyen en el periodo de un péndulo, las que se\n",
    "pueden estudiar en el laboratorio son la longitud del hilo, la amplitud (grados con respecto a\n",
    "la posición de reposo) y la masa colgante. Donde cada variable se midió con la cinta métrica\n",
    "(sensibilidad de $1\\ mm$), las marcas angulares (sensibilidad de $1\\ mm$), respectivamente. Por su\n",
    "parte, el periodo de oscilación se midió utilizando la fotocompuerta con sensibilidad de $0.01\\ ms$.\n",
    "\n",
    "Para la ejecución de la medida del periodo, se determinó que el momento ideal para\n",
    "tomar la medida con la fotocompuerta es posterior de una oscilación completa. De esta\n",
    "manera se reducen las incertezas provocadas al soltar la masa. Adicionalmente, y por la\n",
    "naturaleza oscilatoria de un péndulo, se posicionó la fotocompuerta en un punto arbitrario del\n",
    "movimiento y no se cambió durante todo el experimento.\n",
    "\n",
    "Una vez hecho todos los preparativos, se determinó que la forma ideal de hacer las\n",
    "medidas del periodo que provoque la menor cantidad de perturbaciones en el sistema fue:\n",
    "\n",
    "1. Variando la masa. Se mantuvo constante la longitud del hilo en $76,5 cm$ (del punto de apoyo al centro de masa de cada combinación) y con una amplitud de 5 grados. Debido a que solo se contaban con 3 masas, se utilizaron las combinaciones $m_1$, $m_2$, $m_1 + m_3$ y $m_2 + m_3$. Otras combinaciones mostraban roces o impactos del péndulo con la fotocompuerta, y no se utilizó $m_3$ debido a que su masa era comparable a la masa del hilo. El orden de las masas fue de menor a mayor.\n",
    "\n",
    "2. Variando la amplitud. Continuando con la mayor combinación de masas, se procedió a variar las amplitudes con los ángulos 2º, 3º, 4º, 5º y 10º con respecto a la vertical manteniendo las condiciones anteriores.\n",
    "\n",
    "3. Variando la longitud del hilo. $L_1= 64\\ cm$ ; $L_2=66.5\\ cm$ ; $L_3= 69.5\\ cm$ ; $L_4=76.5\\ cm$ ; $L_5=72\\ cm$ (se toma la distancia desde el punto de agarre del hilo, hasta el centro de la masa)."
   ]
  },
  {
   "cell_type": "markdown",
   "id": "27a03f3d-60d8-428d-8e0f-468bed89b0ec",
   "metadata": {},
   "source": [
    "# Resultados\n",
    "\n",
    "Se utilizó la misma longitud ($76.5\\ cm$) y la misma amplitud (5°) para ver si el periodo del\n",
    "péndulo variaba en respuesta a distintas masas. Se encontró que la masa no es una variable\n",
    "que afecte a la periodicidad.\n",
    "\n",
    "* Gráfica del periodo del péndulo frente a distintas masas (Figura 1).Los puntos representan los datos experimentales presentados en la tabla de la (Figura 2)."
   ]
  },
  {
   "cell_type": "code",
   "execution_count": 2,
   "id": "cfc7dcd5-1f15-4c07-ae4b-99a98998c91f",
   "metadata": {
    "jupyter": {
     "source_hidden": true
    },
    "tags": [
     "hide-input"
    ]
   },
   "outputs": [],
   "source": [
    "# Para manejo de numeros\n",
    "import numpy as np \n",
    "# Para tablas de datos\n",
    "import pandas as pd\n",
    "# Para Graficar\n",
    "import matplotlib.pyplot as plt\n",
    "# Estilo de las graficas\n",
    "import seaborn as sns\n",
    "sns.set()\n",
    "plt.rcParams['text.usetex'] = True"
   ]
  },
  {
   "cell_type": "code",
   "execution_count": 3,
   "id": "c7012dc1-4652-48df-9591-c26bd0f0710f",
   "metadata": {
    "jupyter": {
     "source_hidden": true
    },
    "tags": [
     "hide-input"
    ]
   },
   "outputs": [],
   "source": [
    "# Creamos funcion de utilidad de estadistica\n",
    "def stats(arr):\n",
    "    \"\"\"Funcion para calculo estadistico basico.\n",
    "    \n",
    "    Input :\n",
    "    -------\n",
    "        arr: np.array. Vector con los datos\n",
    "        \n",
    "    Return :\n",
    "    --------\n",
    "        tuple : Conjunto de datos de interes\n",
    "    \"\"\"\n",
    "    # Calculamos la suma de la diferencia de los cuadrados con el promedio\n",
    "    s2 = np.sum((arr.mean() - arr)**2)\n",
    "    # Obtenemos la desviacion estandar de la muestra\n",
    "    S = np.sqrt(s2 / (arr.shape[0] - 1))\n",
    "    # Determinamos el numero optimo,\n",
    "    # 0.0001 corresponde a la sensibilidad del instrumento\n",
    "    N = (S / 0.0001)**2\n",
    "    # Calculamos la desviacion estandar de la poblacion\n",
    "    sigma = S/np.sqrt(arr.shape[0])\n",
    "    # Suma cuadratica de las incertidumbres (instrumental y estadistica)\n",
    "    d = np.sqrt(0.0001**2 + sigma**2)\n",
    "    \n",
    "    return arr.mean(), S, N, sigma, d"
   ]
  },
  {
   "cell_type": "code",
   "execution_count": 4,
   "id": "69d746fc-f1c5-41dd-aab3-d94a455d9e01",
   "metadata": {
    "jupyter": {
     "source_hidden": true
    },
    "tags": [
     "hide-input"
    ]
   },
   "outputs": [
    {
     "data": {
      "text/html": [
       "<div>\n",
       "<style scoped>\n",
       "    .dataframe tbody tr th:only-of-type {\n",
       "        vertical-align: middle;\n",
       "    }\n",
       "\n",
       "    .dataframe tbody tr th {\n",
       "        vertical-align: top;\n",
       "    }\n",
       "\n",
       "    .dataframe thead th {\n",
       "        text-align: right;\n",
       "    }\n",
       "</style>\n",
       "<table border=\"1\" class=\"dataframe\">\n",
       "  <thead>\n",
       "    <tr style=\"text-align: right;\">\n",
       "      <th></th>\n",
       "      <th>Masa (g)</th>\n",
       "      <th>Periodo (s)</th>\n",
       "    </tr>\n",
       "  </thead>\n",
       "  <tbody>\n",
       "    <tr>\n",
       "      <th>0</th>\n",
       "      <td>5.4</td>\n",
       "      <td>1.50271</td>\n",
       "    </tr>\n",
       "    <tr>\n",
       "      <th>2</th>\n",
       "      <td>7</td>\n",
       "      <td>1.494</td>\n",
       "    </tr>\n",
       "    <tr>\n",
       "      <th>1</th>\n",
       "      <td>45</td>\n",
       "      <td>1.49882</td>\n",
       "    </tr>\n",
       "    <tr>\n",
       "      <th>3</th>\n",
       "      <td>46.5</td>\n",
       "      <td>1.5025</td>\n",
       "    </tr>\n",
       "  </tbody>\n",
       "</table>\n",
       "</div>"
      ],
      "text/plain": [
       "  Masa (g) Periodo (s)\n",
       "0      5.4     1.50271\n",
       "2        7       1.494\n",
       "1       45     1.49882\n",
       "3     46.5      1.5025"
      ]
     },
     "execution_count": 4,
     "metadata": {},
     "output_type": "execute_result"
    }
   ],
   "source": [
    "# Cargamos los datos para los diferentes valores de masas\n",
    "m_5 = np.array([1.5017, 1.5022, 1.5057, 1.5036, 1.5046, 1.5015, 1.5025, 1.5010, 1.5018, 1.5025])\n",
    "m_54 = m_5\n",
    "m_45 = np.array([1.4972, 1.4963, 1.4991, 1.4975, 1.5036, 1.4986, 1.5014, 1.4964, 1.5009, 1.4972])\n",
    "m_7 = np.array([1.4998, 1.4808, 1.4930, 1.4901, 1.4943, 1.4926, 1.4994, 1.4977, 1.4957, 1.4966])\n",
    "m_465 = np.array([1.5036, 1.5029, 1.5033, 1.5020, 1.5034, 1.5030, 1.5011, 1.5010, 1.5022])\n",
    "\n",
    "# Unimos todas en un array\n",
    "masas = [m_54, m_45, m_7, m_465]\n",
    "\n",
    "# Creamos tabla de datos\n",
    "df_m = pd.DataFrame(columns = [\"Variable\", \"Promedio\", \"Varianza\", \"N optimo\", \"D. std\", \"Incertidumbre\"])\n",
    "# Definimos una variable con las masas medidos\n",
    "ms = [5.4, 45, 7, 46.5]\n",
    "# Llenamos la tabla\n",
    "for i, m in enumerate(masas):\n",
    "    df_m.loc[i, \"Variable\"] = ms[i]\n",
    "    df_m.loc[i, \"Promedio\":] = stats(m)\n",
    "    \n",
    "tmp  = df_m[[\"Variable\", \"Promedio\"]].copy()\n",
    "tmp.columns = [\"Masa (g)\", \"Periodo (s)\"]\n",
    "tmp.sort_values(\"Masa (g)\")\n",
    "# Si la quieren en un excel, descomentar abajo\n",
    "#df_m.to_excel(\"Datos por masas.xlsx\")"
   ]
  },
  {
   "cell_type": "code",
   "execution_count": 5,
   "id": "6f431211-2dde-4f84-b842-b151d414b661",
   "metadata": {
    "jupyter": {
     "source_hidden": true
    },
    "tags": [
     "hide-input"
    ]
   },
   "outputs": [
    {
     "data": {
      "image/png": "[encoded data removed]",
      "text/plain": [
       "<Figure size 640x480 with 1 Axes>"
      ]
     },
     "metadata": {},
     "output_type": "display_data"
    }
   ],
   "source": [
    "# Graficamos\n",
    "plt.errorbar(df_m[\"Variable\"], df_m[\"Promedio\"], df_m[\"Incertidumbre\"], \n",
    "             fmt = \"o\", ms = 3, capsize = 3)\n",
    "plt.title(r\"Per\\'iodo vs Masa colgante\")\n",
    "plt.xlabel(r\"m(g)\")\n",
    "plt.ylabel(r\"T(s)\")\n",
    "plt.show()\n",
    "#plt.savefig(\"PvsM.jpg\")"
   ]
  },
  {
   "cell_type": "markdown",
   "id": "308e2b0c-cfe8-4956-941a-5af16c55187b",
   "metadata": {},
   "source": [
    "Se utilizó una misma masa ($5.4\\ g$) y una misma longitud ($76.5\\ cm$) para determinar si la\n",
    "amplitud es una variable qué afecta al periodo del péndulo, y se determinó qué no lo es.\n",
    "\n",
    "* Gráfica del periodo del péndulo frente a distintas amplitudes (Figura 3). Los puntos representan los datos experimentales presentados en la tabla (Figura 4)"
   ]
  },
  {
   "cell_type": "code",
   "execution_count": 6,
   "id": "e2778087-8968-43b2-bae8-9b8c59206aa0",
   "metadata": {
    "jupyter": {
     "source_hidden": true
    },
    "tags": [
     "hide-input"
    ]
   },
   "outputs": [],
   "source": [
    "# Cargamos los datos\n",
    "m_2 = np.array([1.4881, 1.5006, 1.5021, 1.4981, 1.4951])\n",
    "m_3 = np.array([1.4957, 1.5002, 1.5000, 1.4998, 1.4988, 1.4993, 1.4998, 1.4995])\n",
    "m_4 = np.array([1.4953, 1.5031, 1.5029, 1.5027, 1.5012, 1.5050, 1.4998, 1.5046])\n",
    "m_10 = np.array([1.5092, 1.5129, 1.5099, 1.5120, 1.5122, 1.5114, 1.5116, 1.5121, 1.5117])\n",
    "\n",
    "# Unimos todos en una sola variable\n",
    "degrees = [m_2, m_3, m_4, m_5, m_10]"
   ]
  },
  {
   "cell_type": "code",
   "execution_count": 7,
   "id": "c741aa67-9e9c-4f10-9487-3eaac73115bf",
   "metadata": {
    "jupyter": {
     "source_hidden": true
    },
    "tags": [
     "hide-input"
    ]
   },
   "outputs": [
    {
     "data": {
      "text/html": [
       "<div>\n",
       "<style scoped>\n",
       "    .dataframe tbody tr th:only-of-type {\n",
       "        vertical-align: middle;\n",
       "    }\n",
       "\n",
       "    .dataframe tbody tr th {\n",
       "        vertical-align: top;\n",
       "    }\n",
       "\n",
       "    .dataframe thead th {\n",
       "        text-align: right;\n",
       "    }\n",
       "</style>\n",
       "<table border=\"1\" class=\"dataframe\">\n",
       "  <thead>\n",
       "    <tr style=\"text-align: right;\">\n",
       "      <th></th>\n",
       "      <th>Amplitud (°)</th>\n",
       "      <th>Periodo (s)</th>\n",
       "    </tr>\n",
       "  </thead>\n",
       "  <tbody>\n",
       "    <tr>\n",
       "      <th>0</th>\n",
       "      <td>2</td>\n",
       "      <td>1.4968</td>\n",
       "    </tr>\n",
       "    <tr>\n",
       "      <th>1</th>\n",
       "      <td>3</td>\n",
       "      <td>1.499137</td>\n",
       "    </tr>\n",
       "    <tr>\n",
       "      <th>2</th>\n",
       "      <td>4</td>\n",
       "      <td>1.501825</td>\n",
       "    </tr>\n",
       "    <tr>\n",
       "      <th>3</th>\n",
       "      <td>5</td>\n",
       "      <td>1.50271</td>\n",
       "    </tr>\n",
       "    <tr>\n",
       "      <th>4</th>\n",
       "      <td>10</td>\n",
       "      <td>1.511444</td>\n",
       "    </tr>\n",
       "  </tbody>\n",
       "</table>\n",
       "</div>"
      ],
      "text/plain": [
       "  Amplitud (°) Periodo (s)\n",
       "0            2      1.4968\n",
       "1            3    1.499137\n",
       "2            4    1.501825\n",
       "3            5     1.50271\n",
       "4           10    1.511444"
      ]
     },
     "execution_count": 7,
     "metadata": {},
     "output_type": "execute_result"
    }
   ],
   "source": [
    "# Creamos tabla de datos\n",
    "amp = pd.DataFrame(columns = [\"Variable\", \"Promedio\", \"Varianza\", \"N optimo\", \"D. std\", \"Incertidumbre\"])\n",
    "# Definimos una variable con los angulos medidos\n",
    "angulos = [2, 3, 4, 5, 10]\n",
    "# Llenamos la tabla\n",
    "for i, m in enumerate(degrees):\n",
    "    amp.loc[i, \"Variable\"] = angulos[i]\n",
    "    amp.loc[i, \"Promedio\":] = stats(m)\n",
    "    \n",
    "tmp  = amp[[\"Variable\", \"Promedio\"]].copy()\n",
    "tmp.columns = [\"Amplitud (\\N{DEGREE SIGN})\", \"Periodo (s)\"]\n",
    "tmp.sort_values(\"Amplitud (\\N{DEGREE SIGN})\")\n",
    "# Si la quieren en un excel, descomentar abajo\n",
    "#amp.to_excel(\"Datos por amplitud.xlsx\")"
   ]
  },
  {
   "cell_type": "code",
   "execution_count": 8,
   "id": "a715e231-929f-4d90-9d4c-b5db0f2a47fc",
   "metadata": {
    "jupyter": {
     "source_hidden": true
    },
    "tags": [
     "hide-input"
    ]
   },
   "outputs": [
    {
     "data": {
      "image/png": "[encoded data removed]",
      "text/plain": [
       "<Figure size 640x480 with 1 Axes>"
      ]
     },
     "metadata": {},
     "output_type": "display_data"
    }
   ],
   "source": [
    "# Graficamos\n",
    "plt.errorbar(amp[\"Variable\"], amp[\"Promedio\"], amp[\"Incertidumbre\"], \n",
    "             fmt = \"o\", ms = 3, capsize = 3)\n",
    "plt.title(r\"Per\\'iodo vs Amplitud de oscilaci\\'on\")\n",
    "plt.xlabel(r\"$\\theta (^o)$\")\n",
    "plt.ylabel(r\"T(s)\")\n",
    "plt.show()\n",
    "#plt.savefig(\"PvsA.jpg\")"
   ]
  },
  {
   "cell_type": "markdown",
   "id": "8b65795a-ba3a-4b06-bd50-70b7c75d6c89",
   "metadata": {},
   "source": [
    "En esta gráfica podemos observar que la amplitud de oscilacion, dentro del intervalo probado,\n",
    "no influye en el periodo. Luego, se utilizó una misma masa ($45\\ g$) y una misma amplitud\n",
    "(5°) para determinar si la longitud es una variable qué afecte al periodo del tiempo y se\n",
    "determinó qué sí lo es.\n",
    "\n",
    "* Gráfica del periodo frente a la longitud del péndulo ( Figura 5 ). Los puntos representan los datos experimentales presentados en la tabla (Figura 6). Es importante destacar que las barras de incertezas son más pequeñas que los puntos, el diámetro del punto representa su incerteza."
   ]
  },
  {
   "cell_type": "code",
   "execution_count": 9,
   "id": "f9822c9a-eaa6-411b-b14f-122fa7c04a20",
   "metadata": {
    "jupyter": {
     "source_hidden": true
    },
    "tags": [
     "hide-input"
    ]
   },
   "outputs": [
    {
     "data": {
      "text/html": [
       "<div>\n",
       "<style scoped>\n",
       "    .dataframe tbody tr th:only-of-type {\n",
       "        vertical-align: middle;\n",
       "    }\n",
       "\n",
       "    .dataframe tbody tr th {\n",
       "        vertical-align: top;\n",
       "    }\n",
       "\n",
       "    .dataframe thead th {\n",
       "        text-align: right;\n",
       "    }\n",
       "</style>\n",
       "<table border=\"1\" class=\"dataframe\">\n",
       "  <thead>\n",
       "    <tr style=\"text-align: right;\">\n",
       "      <th></th>\n",
       "      <th>Longitud (cm)</th>\n",
       "      <th>Periodo (s)</th>\n",
       "    </tr>\n",
       "  </thead>\n",
       "  <tbody>\n",
       "    <tr>\n",
       "      <th>0</th>\n",
       "      <td>76.5</td>\n",
       "      <td>1.49882</td>\n",
       "    </tr>\n",
       "    <tr>\n",
       "      <th>1</th>\n",
       "      <td>72</td>\n",
       "      <td>1.39356</td>\n",
       "    </tr>\n",
       "    <tr>\n",
       "      <th>2</th>\n",
       "      <td>69.5</td>\n",
       "      <td>1.33458</td>\n",
       "    </tr>\n",
       "    <tr>\n",
       "      <th>3</th>\n",
       "      <td>66.7</td>\n",
       "      <td>1.264</td>\n",
       "    </tr>\n",
       "    <tr>\n",
       "      <th>4</th>\n",
       "      <td>64</td>\n",
       "      <td>1.19864</td>\n",
       "    </tr>\n",
       "  </tbody>\n",
       "</table>\n",
       "</div>"
      ],
      "text/plain": [
       "  Longitud (cm) Periodo (s)\n",
       "0          76.5     1.49882\n",
       "1            72     1.39356\n",
       "2          69.5     1.33458\n",
       "3          66.7       1.264\n",
       "4            64     1.19864"
      ]
     },
     "execution_count": 9,
     "metadata": {},
     "output_type": "execute_result"
    }
   ],
   "source": [
    "l1 = m_45\n",
    "l2 = np.array([1.3926, 1.3948, 1.3928, 1.3943, 1.3934, 1.3919, 1.3906, 1.3943, 1.3949, 1.3960])\n",
    "l3 = np.array([1.3332, 1.3340, 1.3352, 1.3335, 1.3343, 1.3346, 1.3358, 1.3350, 1.3361, 1.3341])\n",
    "l4 = np.array([1.2715, 1.2746, 1.2079, 1.2722, 1.2661, 1.2683, 1.2677, 1.2703, 1.2725, 1.2689])\n",
    "l5 = np.array([1.2005, 1.2001, 1.1999, 1.1987, 1.2036, 1.2002, 1.1986, 1.1981, 1.2002, 1.1865])\n",
    "\n",
    "ls = [l1, l2, l3, l4, l5]\n",
    "\n",
    "# Creamos tabla de datos\n",
    "L = pd.DataFrame(columns = [\"Variable\", \"Promedio\", \"Varianza\", \"N optimo\", \"D. std\", \"Incertidumbre\"])\n",
    "# Definimos una variable con los angulos medidos\n",
    "Ls = [76.5, 72, 69.5, 66.7, 64]\n",
    "# Llenamos la tabla\n",
    "for i, m in enumerate(ls):\n",
    "    L.loc[i, \"Variable\"] = Ls[i]\n",
    "    L.loc[i, \"Promedio\":] = stats(m)\n",
    "    \n",
    "tmp = L[['Variable', 'Promedio']].copy()\n",
    "tmp.columns = ['Longitud (cm)', 'Periodo (s)']\n",
    "tmp\n",
    "# Si la quieren en un excel, descomentar abajo\n",
    "#L.to_excel(\"Datos por longitudes.xlsx\")"
   ]
  },
  {
   "cell_type": "code",
   "execution_count": 10,
   "id": "228444e6-7d18-4cbd-a80c-ad067c2b9527",
   "metadata": {
    "jupyter": {
     "source_hidden": true
    },
    "tags": [
     "hide-input"
    ]
   },
   "outputs": [
    {
     "data": {
      "image/png": "[encoded data removed]",
      "text/plain": [
       "<Figure size 640x480 with 1 Axes>"
      ]
     },
     "metadata": {},
     "output_type": "display_data"
    }
   ],
   "source": [
    "# Graficamos\n",
    "plt.errorbar(L[\"Variable\"], L[\"Promedio\"], L[\"Incertidumbre\"], \n",
    "             fmt = \"o\", ms = 3, capsize = 3)\n",
    "plt.title(r\"Per\\'iodo vs Longitud del hilo\")\n",
    "plt.xlabel(r\"l(cm)\")\n",
    "plt.ylabel(r\"T(s)\")\n",
    "plt.show()\n",
    "#plt.savefig(\"PvsL.jpg\")"
   ]
  },
  {
   "cell_type": "markdown",
   "id": "7ed8c9ff-2264-461a-9f40-3561d5f22514",
   "metadata": {},
   "source": [
    "Como en la anterior los errores son tapados por el tamano del punto, hacemos un ajuste para eliminar las mismas."
   ]
  },
  {
   "cell_type": "code",
   "execution_count": 11,
   "id": "95228f9d-3a44-44eb-884a-264b51fc76da",
   "metadata": {
    "jupyter": {
     "source_hidden": true
    },
    "tags": [
     "hide-input"
    ]
   },
   "outputs": [
    {
     "data": {
      "image/png": "[encoded data removed]",
      "text/plain": [
       "<Figure size 640x480 with 1 Axes>"
      ]
     },
     "metadata": {},
     "output_type": "display_data"
    }
   ],
   "source": [
    "# Graficamos\n",
    "plt.errorbar(L[\"Variable\"], L[\"Promedio\"], yerr = L[\"Incertidumbre\"], \n",
    "             fmt = \"o\", ms = 3, capsize = 0)\n",
    "plt.title(r\"Per\\'iodo vs Longitud del hilo\")\n",
    "plt.xlabel(r\"l(cm)\")\n",
    "plt.ylabel(r\"T(s)\")\n",
    "plt.show()\n",
    "#plt.savefig(\"PvsL.jpg\")"
   ]
  },
  {
   "cell_type": "markdown",
   "id": "29a31561-fe35-466c-ad10-45094b2b89ff",
   "metadata": {},
   "source": [
    "# Conclusion\n",
    "\n",
    "Se encontró qué el periodo de un péndulo simple varía según su longitud y no de las variaciones de masa o de amplitud dentro de los intervalos utilizados respectivamente: Masa = $[5.4,46.5]\\ g$, Amplitud = $[2,10]$°\n",
    "Longitud = $[64,76.5]\\ cm$. Es decir, que los periodos de oscilación dependen significativamente de la longitud desde el eje hasta el centro de masa de la lenteja."
   ]
  },
  {
   "cell_type": "code",
   "execution_count": null,
   "id": "5b1d7e9d-ac42-47bf-a6e7-8c99f03c4ea5",
   "metadata": {},
   "outputs": [],
   "source": []
  }
 ],
 "metadata": {
  "authors": [
   {
    "name": "Roberth Marcano"
   }
  ],
  "kernelspec": {
   "display_name": "Python 3 (ipykernel)",
   "language": "python",
   "name": "python3"
  },
  "language_info": {
   "codemirror_mode": {
    "name": "ipython",
    "version": 3
   },
   "file_extension": ".py",
   "mimetype": "text/x-python",
   "name": "python",
   "nbconvert_exporter": "python",
   "pygments_lexer": "ipython3",
   "version": "3.10.11"
  }
 },
 "nbformat": 4,
 "nbformat_minor": 5
}
