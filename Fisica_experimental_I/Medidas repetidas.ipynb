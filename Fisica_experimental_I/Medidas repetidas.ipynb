{
 "cells": [
  {
   "cell_type": "markdown",
   "metadata": {
    "id": "z8zE8jq3hpUH"
   },
   "source": [
    "# Objetivos\n",
    "\n",
    "* Medir la longitud de una mesa del laboratorio con una regla de 20 cm.\n",
    "\n",
    "* Determinar la probabilidad de obtener la cara de un dado al lanzarlo o dejarlo caer.\n",
    "\n",
    "El objetivo general es obtener un conjunto de  datos que surgen de repetir varias veces la medida de una cantidad aleatoria. En base a estos resultados discutir cómo los valores promediados se comparan con el valor esperado al aumentar la cantidad de medidas.\n",
    "\n",
    "> La realización sucesiva de la determinación experimental de una misma magnitud física puede, muchas veces, devolver resultados diferentes.\n",
    "\n"
   ]
  },
  {
   "cell_type": "markdown",
   "metadata": {
    "id": "DTPxwm6cj3QP"
   },
   "source": [
    "# Longitud de una mesa\n",
    "## Pre-laboratorio\n",
    "\n",
    "1. ¿Cuál es la incertidumbre de apreciación que tiene el instrumento con el cual van a realizar la medida (regla)?\n",
    "\n",
    "> La incertidumbre de apreciacion que tiene el instrumento (regla) utilizado para medir es $1\\ mm$.\n",
    "\n",
    "2. ¿Esperan tener siempre el mismo resultado si realizan la medida varias veces? ¿Por qué?\n",
    "\n",
    "> No esperamos tener siempre el mismo resultado porque la forma de medir puede ser afectada por diversos factores como la posicion en que cada integrante apoya el instrumento, irregularidades de la mesa, la precision en el traslado de la regla, etc.\n",
    "\n",
    "3. Si no se obtuviera el mismo resultado cada vez, ¿cuál sería el resultado que reportarían?\n",
    "\n",
    "> Reportariamos el promedio analitico de las medidas tomadas.\n",
    "\n",
    "4. ¿Tendrían más confianza en el resultado obtenido si midieran con una cinta métrica? ¿Por qué?\n",
    "\n",
    "> Si, debido a que hay un menor error originado en realizar la medida multiples veces.\n",
    "\n",
    "5. Discutir cómo van a proceder para realizar la medida con la regla.\n",
    "\n",
    "> Medimos la mesa haciendo marcas sobre la misma cada $20\\ cm$ (o la longitud correspondiente de la regla) y luego, sumamos todas las marcas para obtener el resultado.\n",
    "\n",
    "## Metodologia\n",
    "\n",
    "1. Medimos la longitud  de una mesa del laboratorio con una regla (Repetimos la medida 10 veces cada integrante del grupo). \n",
    "\n",
    "2. Expresamos el resultado de la medida utilizando el codigo suministrado.\n",
    "\n",
    "3. Repetimos la medida utilizando una cinta métrica (precisión $= 0,1\\ cm$).\n",
    "\n",
    "4. Comparamos los resultados obtenidos con la regla y con la cinta métrica."
   ]
  },
  {
   "cell_type": "markdown",
   "metadata": {
    "id": "enDhuS18n7c8"
   },
   "source": [
    "## Resultados"
   ]
  },
  {
   "cell_type": "code",
   "execution_count": 1,
   "metadata": {
    "colab": {
     "base_uri": "https://localhost:8080/"
    },
    "id": "6R8w3IHRhk98",
    "jupyter": {
     "source_hidden": true
    },
    "outputId": "4f74bf1c-8a9c-489d-9ddf-16848d90eb5a",
    "tags": []
   },
   "outputs": [
    {
     "name": "stdout",
     "output_type": "stream",
     "text": [
      "Promedio 1 = 250.6 cm\n",
      "Promedio 2 = 219.02 cm\n",
      "Promedio 3 = 228.94 cm\n",
      "Promedio 4 = 240.2 cm\n",
      "Promedio 5 = 189.02 cm\n",
      "Promedio 6 = 238.5 cm\n",
      "Promedio Total = 228.06 cm\n",
      "Valor esperado = 239.0\n"
     ]
    }
   ],
   "source": [
    "# Importamos la funcion/paquete necesario para el calculo\n",
    "import numpy as np\n",
    "\n",
    "# Guardamos los datos medidos por cada integrante\n",
    "rob = np.array([255.0, 254.0, 254.0, 250.0, 240.0])\n",
    "fer = np.array([228.4, 229.0, 228.5, 228.5, 230.3])\n",
    "emil = np.array([217.6, 218.3, 220.2, 216.3, 222.7])\n",
    "agus = np.array([239.0, 237.0, 240.0, 242.0, 243.0])\n",
    "Eliseo = np.array([231.1, 231, 237, 238,8])\n",
    "Seba = np.array([235.8, 239, 239.1, 239.1, 239.2, 238.8])\n",
    "\n",
    "# Creamos una variable con los datos de todo el grupo\n",
    "datos_grupo = np.concatenate([rob, fer, emil, agus, Eliseo, Seba])\n",
    "\n",
    "# Reportamos los resultados\n",
    "# Round : redondea los resultados con n decimales\n",
    "# np.mean : calcula el promedio\n",
    "print(\"Promedio 1 = {} cm\".format(round(np.mean(rob), 2)))\n",
    "print(\"Promedio 2 = {} cm\".format(round(np.mean(emil), 2)))\n",
    "print(\"Promedio 3 = {} cm\".format(round(np.mean(fer), 2)))\n",
    "print(\"Promedio 4 = {} cm\".format(round(np.mean(agus), 2)))\n",
    "print(\"Promedio 5 = {} cm\".format(round(np.mean(Eliseo), 2)))\n",
    "print(\"Promedio 6 = {} cm\".format(round(np.mean(Seba), 2)))\n",
    "\n",
    "# Longitud promedio de las reglas\n",
    "print(\"Promedio Total = {} cm\".format(round(np.mean(datos_grupo), 2)))\n",
    "\n",
    "# Longitud medida por la cinta 239.0\n",
    "print(\"Valor esperado = {}\".format(239.0))"
   ]
  },
  {
   "cell_type": "markdown",
   "metadata": {
    "id": "-1zBpy85zXB0"
   },
   "source": [
    "# Probabilidad  de obtener resultado con un dado\n",
    "## Pre-laboratorio\n",
    "\n",
    "1. Al tirar el dado, ¿Cuál es la probabilidad de obtener el número 6?\n",
    "\n",
    "> La probabilidad de obtener 6, o cualquier otro numero del dado, es $\\frac{1}{6}$\n",
    "\n",
    "2. Obtener números entre el 1 y el 6 ¿es igualmente probable?\n",
    "\n",
    "> Como la probabilidad de un obtener un numero de un dado no depende de resultados anteriores, entonces, la probabilidad de obtener cualquiera de sus numeros es equivalente.\n",
    "\n",
    "3. ¿Cuántas veces esperan que salga cada número si se lanza el dado por ejemplo 12 veces?\n",
    "\n",
    "> Si esperamos que los lanzamientos cumplan estrictamente con la probabilidad asociada, cada numero deberia de obtenerse 2 veces.\n",
    "\n",
    "4. ¿Qué creen que ocurrirá si se tira el dado más veces?\n",
    "\n",
    "> Se espera observar una reduccion en fluctuaciones probabilisticas, provocando que cada numero salga, aproximadamente, la misma cantidad de veces que los demas.\n",
    "\n",
    "## Metodologia\n",
    "\n",
    "1. Tiramos un dado 20 veces por cada integrante del grupo, registrando el valor de la cara obtenida en cada tirada. \n",
    "\n",
    "2. Determinamos la probabilidad de obtener cada cara a partir de la cantidad de veces que se obtuvo cada cara individualmente y dividir por el total de lanzamientos del dado.\n"
   ]
  },
  {
   "cell_type": "markdown",
   "metadata": {
    "id": "Jt8ef1uK1UDl"
   },
   "source": [
    "### Resultados"
   ]
  },
  {
   "cell_type": "code",
   "execution_count": null,
   "metadata": {
    "colab": {
     "base_uri": "https://localhost:8080/"
    },
    "id": "lupcWijaogAQ",
    "jupyter": {
     "source_hidden": true
    },
    "outputId": "097892b9-4aa1-4724-cc12-f338232434b2",
    "tags": []
   },
   "outputs": [
    {
     "name": "stdout",
     "output_type": "stream",
     "text": [
      "Probabilidad 1: 0.16\n",
      "Probabilidad 2: 0.14\n",
      "Probabilidad 3: 0.18\n",
      "Probabilidad 4: 0.14\n",
      "Probabilidad 5: 0.21\n",
      "Probabilidad 6: 0.18\n",
      "Valor esperado = 0.167\n"
     ]
    }
   ],
   "source": [
    "import numpy as np\n",
    "#Cantidad de repeticiones de cada cara del dado luego de todos los lanzamientos\n",
    "#\n",
    "# Numero de repeticiones cada cara\n",
    "# Ejemplo: 1 -> 1 vez, 2 -> 1 vez, 3 -> 6 veces, \n",
    "# 4 -> 4 veces, 5 -> 3 veces, 6 -> 5 veces\n",
    "rob = np.array([1, 1, 6, 4, 3, 5])\n",
    "fer = np.array([3, 2, 3, 4, 5, 3])\n",
    "emil = np.array([5, 4, 3, 2, 5, 1])\n",
    "agus = np.array([2, 4, 3, 2, 5, 4])\n",
    "i5 = np.array([3, 5, 3, 1, 5, 4])\n",
    "Eliseo = np.array([5, 1, 4, 4, 2, 4])\n",
    "\n",
    "#Cada uno lanzo 20 veces, total del grupo\n",
    "ntot = 20*6\n",
    "\n",
    "#Probabilidades de cada cara del grupo\n",
    "total = rob + fer + emil + agus + i5 + Eliseo\n",
    "p_total = total / ntot\n",
    "\n",
    "#Miremos los resultados\n",
    "print(\"Probabilidad 1: {}\".format(round(p_total[0], 2)))\n",
    "print(\"Probabilidad 2: {}\".format(round(p_total[1], 2)))\n",
    "print(\"Probabilidad 3: {}\".format(round(p_total[2], 2)))\n",
    "print(\"Probabilidad 4: {}\".format(round(p_total[3], 2)))\n",
    "print(\"Probabilidad 5: {}\".format(round(p_total[4], 2)))\n",
    "print(\"Probabilidad 6: {}\".format(round(p_total[5], 2)))\n",
    "\n",
    "v_esperado = 1/6\n",
    "print (\"Valor esperado = {}\".format(round(v_esperado, 3)))"
   ]
  },
  {
   "cell_type": "markdown",
   "metadata": {
    "id": "RJKAifEB_hXE"
   },
   "source": [
    "# Conclusiones\n",
    "\n",
    "1. ¿Cuáles son las fuentes de las variaciones en las observaciones de las cantidades medidas en cada uno de los casos?\n",
    "\n",
    ">  Las fuentes de variación del primer caso (medida de la mesa) son: cada integrante midió distintos lados de la mesa, donde los bordes tenian distintas imperfcecciones. Algunos integrantes usaron de ayuda para marcar el recorrido de la regla distintos objetos como lápices, dedos y celulares. La forma en que cada integrante colocó la regla variaba y por lo tanto su recorrido tambien. La posición de donde cada uno vió la regla fue distinto. \n",
    "\n",
    "   Las fuentes de variación del segundo caso (lanzamiento de dados) son: Varía la superficie en la que caen los dados, la fuerza con la que los tira cada uno, la altura de la que caen, el roce del aire, el ángulo de tiro. \n",
    "\n",
    "\n",
    "\n",
    "2. ¿Tiene sentido repetir 100 veces la medición de la mesada con una cinta métrica? ¿Y con una regla pequeña?\n",
    "\n",
    "> No tendría sentido repetir 100 veces la medición con la cinta metrica ya que al ser un elemento preciso bastaria con un par de mediciones para determinar un resultado concreto. En cambio, con la regla si tendría sentido ya que al tener que hacer un mayor numero de mediciones para determinar la medida total de la mesa es necesario sacar un promedio de mediciones más preciso.\n",
    "\n",
    "3. ¿Cuál es la diferencia entre el experimento del dado y la medida de la mesa con regla?\n",
    "\n",
    "> La diferencia entre ambos experimentos es que cada uno tiene un error diferente. El experimento de los dados tiene un tipo de error accidental, ya que no depende de quien haga el experimento; y el experimento de la mesa posee un error sistemático, ya que depende directamente de quien realiza el experimento.\n",
    "\n",
    "4. ¿Cuántas medidas estiman necesarias en cada caso para obtener el valor esperado de cada magnitud a determinar?\n",
    "\n",
    "> En el caso de los dados, mientras más medidas hagamos más nos acercaremos al valor esperado.\n",
    "En el caso de la mesa, para la regla necesitamos hacer más medidas para acercarnos al valor esperado mientras que con la cinta métrica, al ser más preciso, no necesitamos tantas medidas. Mientras más preciso el instrumento de medición menos medidas necesitaremos para acercarnos al valor esperado.\n",
    "\n",
    "5. Observar los resultados de lanzar un dado en la simulacion de muestra."
   ]
  },
  {
   "cell_type": "markdown",
   "metadata": {
    "id": "yJ-XruzOTDYx"
   },
   "source": [
    "En la simulación observamos que, al aumentar el número de lanzamientos nos acercamos más al valor esperado."
   ]
  },
  {
   "cell_type": "code",
   "execution_count": 2,
   "metadata": {
    "colab": {
     "base_uri": "https://localhost:8080/",
     "height": 279
    },
    "id": "OwTB94GuAAXe",
    "jupyter": {
     "source_hidden": true
    },
    "outputId": "4f8755f9-a244-44aa-bcc2-d9bc360cedc8",
    "tags": []
   },
   "outputs": [
    {
     "data": {
      "image/png": "[encoded data removed]",
      "text/plain": [
       "<Figure size 640x480 with 1 Axes>"
      ]
     },
     "metadata": {},
     "output_type": "display_data"
    }
   ],
   "source": [
    "#De https://hadrienj.github.io/posts/Probability-Mass-and-Density-Functions/\n",
    "\n",
    "import numpy as np\n",
    "import matplotlib.pyplot as plt\n",
    "\n",
    "# Modifiquen el número de lanzamientos\n",
    "num_throws = 100\n",
    "\n",
    "outcomes = np.zeros(num_throws)\n",
    "for i in range(num_throws):\n",
    "    # Tiremos el dado!\n",
    "    outcome = np.random.choice(['1', '2', '3', '4', '5', '6'])\n",
    "    outcomes[i] = outcome\n",
    "\n",
    "val, cnt = np.unique(outcomes, return_counts=True)\n",
    "prop = cnt / len(outcomes)\n",
    "\n",
    "# Ahora que tiramos el dado varias veces, miremos los resultados\n",
    "plt.bar(val, prop)\n",
    "plt.ylabel(\"Probabilidad\")\n",
    "plt.xlabel(\"Cara\")\n",
    "plt.show()\n",
    "plt.close()"
   ]
  }
 ],
 "metadata": {
  "authos": [
   {
    "name": "Roberth Marcano"
   }
  ],
  "colab": {
   "provenance": []
  },
  "kernelspec": {
   "display_name": "Python 3 (ipykernel)",
   "language": "python",
   "name": "python3"
  },
  "language_info": {
   "codemirror_mode": {
    "name": "ipython",
    "version": 3
   },
   "file_extension": ".py",
   "mimetype": "text/x-python",
   "name": "python",
   "nbconvert_exporter": "python",
   "pygments_lexer": "ipython3",
   "version": "3.10.11"
  }
 },
 "nbformat": 4,
 "nbformat_minor": 4
}
