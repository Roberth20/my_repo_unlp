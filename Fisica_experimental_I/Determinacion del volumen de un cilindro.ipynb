{
 "cells": [
  {
   "cell_type": "markdown",
   "id": "e2003b8a-697a-4f79-bdc1-72d4abb9c12a",
   "metadata": {},
   "source": [
    "# Resumen\n",
    "\n",
    "Se determinó el volúmen de un cilindro. Para esto se utilizaron diversos instrumentos de medida longitudinal con los cuales se obtuvieron la medidas indirectas del volumen, utilizando el método de propagación de incertezas con derivadas parciales."
   ]
  },
  {
   "cell_type": "markdown",
   "id": "fb845e08-7712-49dc-9d6a-c716ef3571bb",
   "metadata": {},
   "source": [
    "# Introduccion\n",
    "\n",
    "Se determinó el volúmen de un cilindro (Figura 1). La motivación es comparar los resultados de dicha magnitud conseguida a través de distintos procedimientos y variables (fórmula del volumen según diámetro/altura o perímetro/altura).\n"
   ]
  },
  {
   "cell_type": "code",
   "execution_count": 10,
   "id": "ab0e0cd5-835a-487c-81ea-855f907e41d6",
   "metadata": {
    "hide-input": true,
    "jupyter": {
     "source_hidden": true
    },
    "tags": [
     "remove-input"
    ]
   },
   "outputs": [
    {
     "data": {
      "image/png": "[encoded data removed]",
      "text/plain": [
       "<IPython.core.display.Image object>"
      ]
     },
     "execution_count": 10,
     "metadata": {
      "image/png": {
       "width": 150
      }
     },
     "output_type": "execute_result"
    }
   ],
   "source": [
    "from IPython.display import Image\n",
    "\n",
    "Image(filename=\"img/cilindro.png\", width=150)"
   ]
  },
  {
   "cell_type": "markdown",
   "id": "a563e729-0176-4270-a1d5-48bdfd3b7da4",
   "metadata": {},
   "source": [
    "Para el cilindro de variables $(D, h)$:\n",
    "\n",
    "\\begin{equation}\n",
    "V_c = \\pi \\frac{D^2}{4}h \n",
    "\\end{equation}\n",
    "\\begin{equation}\n",
    "\\Delta V = \\pi \\frac{\\Delta D}{2} h + \\pi \\frac{D^2}{4}\\Delta h\n",
    "\\end{equation}\n",
    "\n",
    "Luego, para el cilindro con variables $(P, h)$:\n",
    "\n",
    "\\begin{equation}\n",
    "V_c = \\frac{1}{\\pi}\\frac{p^2}{4}h\n",
    "\\end{equation}\n",
    "\\begin{equation}\n",
    "\\Delta V = \\frac{1}{\\pi}\\frac{\\Delta p}{2}h + \\frac{1}{\\pi}\\frac{p^2}{4}\\Delta h\n",
    "\\end{equation}"
   ]
  },
  {
   "cell_type": "markdown",
   "id": "aa335703-bb13-4d9a-844b-68c561437a46",
   "metadata": {
    "jp-MarkdownHeadingCollapsed": true,
    "tags": []
   },
   "source": [
    "# Metodo experimental\n",
    "\n",
    "El instrumental utilizado para llevar a cabo el experimento fue: \n",
    "* Una regla (de sensibilidad 1 mm)\n",
    "* Una cuerda (de sensibilidad 5 mm)\n",
    "* Un calibre (de sensibilidad 0.05 mm). \n",
    "\n",
    "Para determinar la incerteza instrumental de la cuerda, la tensamos en distintas proporciones (ya que no podemos asegurar la magnitud de la tensión de la cuerda con la que medimos el cilindro) y medimos repetidas veces, obteniendo las variaciones de las medidas, y así tomar un promedio.\n",
    "\n",
    "Empezamos por determinar el volumen del cilindro $(D,H)$.  Para medir el diámetro y la altura del cilindro utilizamos el calibre, medimos repetidas veces cada variable y calculamos el número óptimo de medidas, definido como \n",
    "\n",
    "$$N_{op} = \\left(\\frac{S}{\\sigma_{nom}}\\right)^2$$\n",
    "\n",
    "Siendo S la desviación estándar y el sigma nominal en este caso el error instrumental. Una vez calculado, volvimos a medir más veces y repetimos el cálculo del número óptimo de medidas, una vez qué llegamos al número deseado, paramos de medir.  \n",
    "\n",
    "Para el perímetro utilizamos una cuerda, rodeando repetidas ocasiones el cilindro, marcándolo y luego lo desplegamos para medirlo con una regla. Tomamos el valor de las incertezas conjuntas de la regla y del hilo como la utilizada para determinar el valor del intervalo referido al perímetro.\n",
    "\n",
    "Calculamos el error relativo de las incertezas de las magnitudes obtenidas. La magnitud que medimos de forma indirecta fue el volúmen, con dos distintas fórmulas ya antes mencionadas en la introducción."
   ]
  },
  {
   "cell_type": "markdown",
   "id": "df5bb7a1-5932-497c-a523-5225b45cda7c",
   "metadata": {},
   "source": [
    "# Resultados"
   ]
  },
  {
   "cell_type": "code",
   "execution_count": 111,
   "id": "4a60cce0-ebae-4eb5-b24d-949c5d2115bd",
   "metadata": {},
   "outputs": [],
   "source": [
    "# Importamos librerias necesarias\n",
    "import numpy as np\n",
    "# Se define para obtener los mismos numeros aleatorios\n",
    "np.random.seed(23)"
   ]
  },
  {
   "cell_type": "markdown",
   "id": "e02b7f7e-13a7-47ae-872f-4983759a20f3",
   "metadata": {},
   "source": [
    "*Nota:* Los datos originales se extraviaron, a continuacion se trabaja con un set de datos generados que lleva a los mismos resultados"
   ]
  },
  {
   "cell_type": "code",
   "execution_count": 106,
   "id": "4cce23c9-e46c-4492-8c98-86662f1340a4",
   "metadata": {
    "jupyter": {
     "source_hidden": true
    },
    "tags": [
     "remove-input"
    ]
   },
   "outputs": [],
   "source": [
    "def generate_sample(shape: int):\n",
    "    \"\"\"Funcion generadora de medidas para cilindro de laboratorio.\n",
    "    \n",
    "    Los valores fijos de diametro, altura y perimetro estan determinados,\n",
    "    con la base de que el cilindro original tiene medidas \"exactas\" de \n",
    "    d = 50.00 mm, h = 50.00 mm y p = 160.00 mm.\n",
    "    \n",
    "    Para los valores calculados, se tomo en cuenta:\n",
    "    \n",
    "    1) Que el diametro y la altura se midieron con calibre y el perimetro \n",
    "    con una cuerda (incerteza estimada en la ejecucion de la practica).\n",
    "    \n",
    "    2) Una maxima dispersion de dos unidades de sensibilidad. Es decir, si \n",
    "    el calibre tiene una incerteza de 0.05 mm, la medida mas pequena o mas \n",
    "    grande sera +/- 0.1 mm\n",
    "    \n",
    "    Input :\n",
    "    -------\n",
    "        * shape : int. Entero con la cantidad de datos a generar.\n",
    "        \n",
    "    Output : \n",
    "    --------\n",
    "        * d, h, p : array-like. Lista con los conjutos de cada medida.\n",
    "    \n",
    "    \"\"\"\n",
    "    # Creamos el conjunto de medidas para el diametro\n",
    "    # 10 medidas, con valor 50.0 mm\n",
    "    d = np.full(10, 50.0)\n",
    "    # Generamos el conjunto que representa errores, en la escala del calibre\n",
    "    de = np.round((np.random.random(10)*0.2 - 0.1)/5, 2)*5\n",
    "\n",
    "    # Unimos ambos para obtener medidas reales\n",
    "    d = d + de\n",
    "\n",
    "    # Repetimos para la altura\n",
    "    h = np.full(10, 50.0)\n",
    "    he = np.round((np.random.random(10)*0.2 - 0.1)/5, 2)*5\n",
    "    h = h + he\n",
    "\n",
    "    # Repetimos para el perimetro\n",
    "    p = np.full(10, 160.0)\n",
    "    pe = np.round((np.random.random(10)*2 -1)/5, 1)*5\n",
    "    p = p + pe\n",
    "    \n",
    "    return d, h, p"
   ]
  },
  {
   "cell_type": "code",
   "execution_count": 107,
   "id": "f1ef137e-2502-442f-be5c-1cdd44e34d47",
   "metadata": {},
   "outputs": [],
   "source": [
    "d, h, p = generate_sample(10)"
   ]
  },
  {
   "cell_type": "markdown",
   "id": "41bbaf30-1061-4570-9c71-a911730e4f18",
   "metadata": {},
   "source": [
    "Para cada una obtenemos el promedio con su incerteza"
   ]
  },
  {
   "cell_type": "code",
   "execution_count": 108,
   "id": "f8da2176-ad2d-47ec-84f4-d829352f47d8",
   "metadata": {
    "jupyter": {
     "source_hidden": true
    },
    "tags": [
     "remove-input"
    ]
   },
   "outputs": [
    {
     "name": "stdout",
     "output_type": "stream",
     "text": [
      "d = (50.0 ± 0.05) mm\n",
      "h = (50.0 ± 0.05) mm\n",
      "p = (160 ± 5) mm\n"
     ]
    }
   ],
   "source": [
    "print(f\"d = ({round(d.mean(), 2)} \\u00B1 0.05) mm\")\n",
    "print(f\"h = ({round(h.mean(), 2)} \\u00B1 0.05) mm\")\n",
    "print(f\"p = ({round(p.mean())} \\u00B1 5) mm\")"
   ]
  },
  {
   "cell_type": "markdown",
   "id": "1af8f161-db25-4129-82b7-4609151b80cb",
   "metadata": {},
   "source": [
    "Y los volumenes correspondientes son:"
   ]
  },
  {
   "cell_type": "code",
   "execution_count": 109,
   "id": "561afad3-a193-4f44-a275-03e1d5e10344",
   "metadata": {
    "jupyter": {
     "source_hidden": true
    },
    "tags": [
     "remove-input"
    ]
   },
   "outputs": [
    {
     "name": "stdout",
     "output_type": "stream",
     "text": [
      "Vd = (98.19 ± 0.1) cm^3\n",
      "Vp = (101.8 ± 0.14) cm^3\n"
     ]
    }
   ],
   "source": [
    "# Calculamos volumen utilizando el diametro\n",
    "vd = np.pi * ((d.mean())**2 / 4) * h.mean()\n",
    "# Calculamos utilizando el perimetro\n",
    "vp = (1/np.pi) * (p.mean()**2 / 4) * h.mean()\n",
    "\n",
    "# Definimos las incertezas de cada promedio\n",
    "Dd = 0.05 # mm\n",
    "Dh = 0.05 # mm\n",
    "Dp = 5 # mm\n",
    "\n",
    "# Calculamos incerteza de cada volumen\n",
    "Dvd = (np.pi * (Dd / 2) * h.mean()) + (np.pi * (d.mean()**2 / 4) * Dh)\n",
    "Dvp = ((1/np.pi) * (Dp / 2) * h.mean()) + ((1/np.pi) * (p.mean()**2 / 4) * Dh)\n",
    "\n",
    "print(f\"Vd = ({round(vd/1000,2)} \\u00B1 {round(Dvd/1000,2)}) cm^3\")\n",
    "print(f\"Vp = ({round(vp/1000,2)} \\u00B1 {round(Dvp/1000,2)}) cm^3\")"
   ]
  },
  {
   "cell_type": "markdown",
   "id": "43ded324-02dc-4a52-ade5-64f9639ad1a8",
   "metadata": {},
   "source": [
    "Y comprobamos los errores relativos\n",
    "\\begin{equation}\n",
    "V_{r,d} = \\frac{\\Delta V}{V_d}\n",
    "\\end{equation}"
   ]
  },
  {
   "cell_type": "code",
   "execution_count": 110,
   "id": "1f8aecad-b895-4a0c-822c-7dffcee9d9c9",
   "metadata": {
    "jupyter": {
     "source_hidden": true
    },
    "tags": [
     "remove-input"
    ]
   },
   "outputs": [
    {
     "name": "stdout",
     "output_type": "stream",
     "text": [
      "V_rd = 0.00104\n",
      "V_rp = 0.00139\n"
     ]
    }
   ],
   "source": [
    "print(f\"V_rd = {round(Dvd / vd, 5)}\")\n",
    "print(f\"V_rp = {round(Dvp / vp, 5)}\")"
   ]
  },
  {
   "cell_type": "markdown",
   "id": "afdfe3c5-ebd4-4198-9aa7-a92c61c46942",
   "metadata": {},
   "source": [
    "# Conclusion\n",
    "\n",
    "De los dos resultados obtenidos, podemos comparar sus errores relativos. Se observa  que la medida que presenta menor incertidumbre relativa es la obtenida por la medida del diámetro. Este hecho se debe a que la medida directa tomada con el calibre del diámetro ofrece mayor precisión en comparación con la medida de la cuerda. Así, el volumen para el cilindro es \n",
    "\n",
    "\\begin{equation}\n",
    "V = (98.19 \\pm 0.10) cm^3\n",
    "\\end{equation}"
   ]
  },
  {
   "cell_type": "code",
   "execution_count": null,
   "id": "6b1726bb-3669-4fb5-aef2-59bae9c4f8ca",
   "metadata": {},
   "outputs": [],
   "source": []
  }
 ],
 "metadata": {
  "authors": [
   {
    "name": "Roberth Marcano"
   }
  ],
  "kernelspec": {
   "display_name": "Python 3 (ipykernel)",
   "language": "python",
   "name": "python3"
  },
  "language_info": {
   "codemirror_mode": {
    "name": "ipython",
    "version": 3
   },
   "file_extension": ".py",
   "mimetype": "text/x-python",
   "name": "python",
   "nbconvert_exporter": "python",
   "pygments_lexer": "ipython3",
   "version": "3.10.11"
  }
 },
 "nbformat": 4,
 "nbformat_minor": 5
}
